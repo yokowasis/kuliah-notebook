{
  "cells": [
    {
      "attachments": {},
      "cell_type": "markdown",
      "metadata": {
        "vscode": {
          "languageId": "cpp"
        }
      },
      "source": [
        "# Problem "
      ]
    },
    {
      "cell_type": "code",
      "execution_count": 1,
      "metadata": {
        "vscode": {
          "languageId": "cpp"
        }
      },
      "outputs": [],
      "source": [
        "#include <iostream>\n",
        "using namespace std;"
      ]
    },
    {
      "attachments": {},
      "cell_type": "markdown",
      "metadata": {},
      "source": [
        "## No. 1"
      ]
    },
    {
      "cell_type": "code",
      "execution_count": 6,
      "metadata": {
        "vscode": {
          "languageId": "cpp"
        }
      },
      "outputs": [
        {
          "name": "stdout",
          "output_type": "stream",
          "text": [
            "Kata yang anda masukkan adalah: \n",
            "satu dua tiga empat lima "
          ]
        }
      ],
      "source": [
        "string daftar_kata[5];\n",
        "\n",
        "for (int i = 0; i < 5; i++) {\n",
        "  cin >> daftar_kata[i];\n",
        "}\n",
        "\n",
        "cout << \"Kata yang anda masukkan adalah: \" << endl;\n",
        "for (int i = 0; i < 5; i++) {\n",
        "  cout << daftar_kata[i] << \" \";\n",
        "}"
      ]
    },
    {
      "attachments": {},
      "cell_type": "markdown",
      "metadata": {},
      "source": [
        "## No. 2"
      ]
    },
    {
      "cell_type": "code",
      "execution_count": 5,
      "metadata": {
        "vscode": {
          "languageId": "cpp"
        }
      },
      "outputs": [
        {
          "name": "stdout",
          "output_type": "stream",
          "text": [
            "10 20 30 40 50 60 70 80 90 100 "
          ]
        }
      ],
      "source": [
        "int my_array[10];\n",
        "\n",
        "int k = 10;\n",
        "int i = 0;\n",
        "while (k <= 100) {  \n",
        "  my_array[i] = k;\n",
        "  k+=10;\n",
        "  i++;\n",
        "}\n",
        "\n",
        "for (int i = 0; i < 10; i++) {\n",
        "  cout << my_array[i] << \" \";\n",
        "}"
      ]
    },
    {
      "cell_type": "markdown",
      "metadata": {},
      "source": [
        "## No. 3"
      ]
    },
    {
      "cell_type": "code",
      "execution_count": 9,
      "metadata": {
        "vscode": {
          "languageId": "cpp"
        }
      },
      "outputs": [
        {
          "name": "stdout",
          "output_type": "stream",
          "text": [
            "Masukkan 10 bilangan: \n",
            "Bilangan terbesar adalah: 23"
          ]
        }
      ],
      "source": [
        "int max(int n[10]) {  \n",
        "  int max = n[0];\n",
        "  for (int i = 1; i < 10; i++) {\n",
        "    if (n[i] > max) {\n",
        "      max = n[i];\n",
        "    }\n",
        "  }\n",
        "  return max;\n",
        "}\n",
        "\n",
        "\n",
        "int list_bilangan[10];\n",
        "\n",
        "cout << \"Masukkan 10 bilangan: \" << endl;\n",
        "for (int i = 0; i < 10; i++) {\n",
        "  cin >> list_bilangan[i];                \n",
        "}\n",
        "\n",
        "cout << \"Bilangan terbesar adalah: \" << max(list_bilangan);"
      ]
    },
    {
      "attachments": {},
      "cell_type": "markdown",
      "metadata": {},
      "source": [
        "## No. 4"
      ]
    },
    {
      "cell_type": "code",
      "execution_count": 19,
      "metadata": {
        "vscode": {
          "languageId": "cpp"
        }
      },
      "outputs": [
        {
          "name": "stdout",
          "output_type": "stream",
          "text": [
            "Masukkan 10 bilangan: \n",
            "Bilangan ganjil terkecil adalah: 3"
          ]
        }
      ],
      "source": [
        "int smallest_odd(int n[10]) {  \n",
        "  int min = 999999999;\n",
        "  for (int i = 0; i < 10; i++) {\n",
        "    if (n[i] < min && n[i] % 2 != 0) {\n",
        "      min = n[i];\n",
        "    }\n",
        "  }\n",
        "  return min;\n",
        "}\n",
        "\n",
        "int array_integer[10];\n",
        "\n",
        "cout << \"Masukkan 10 bilangan: \" << endl;\n",
        "\n",
        "for (int i = 0; i < 10; i++) {\n",
        "  cin >> array_integer[i];                \n",
        "}\n",
        "\n",
        "int min = smallest_odd(array_integer);\n",
        "if (min == 999999999) {\n",
        "  cout << \"Tidak ada bilangan ganjil pada array\";\n",
        "} else {\n",
        "  cout << \"Bilangan ganjil terkecil adalah: \" << min;\n",
        "}"
      ]
    }
  ],
  "metadata": {
    "authors": [
      {
        "name": "Wasis Haryo Sasoko"
      }
    ],
    "kernelspec": {
      "display_name": "C++17",
      "language": "C++17",
      "name": "xcpp17"
    },
    "language_info": {
      "codemirror_mode": "text/x-c++src",
      "file_extension": ".cpp",
      "mimetype": "text/x-c++src",
      "name": "c++",
      "version": "17"
    },
    "orig_nbformat": 4
  },
  "nbformat": 4,
  "nbformat_minor": 2
}
