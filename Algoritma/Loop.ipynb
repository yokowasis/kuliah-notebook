{
 "cells": [
  {
   "cell_type": "markdown",
   "metadata": {
    "vscode": {
     "languageId": "cpp"
    }
   },
   "source": [
    "# Latihan"
   ]
  },
  {
   "cell_type": "code",
   "execution_count": 1,
   "metadata": {
    "vscode": {
     "languageId": "cpp"
    }
   },
   "outputs": [],
   "source": [
    "#include <iostream>\n",
    "using namespace std;"
   ]
  },
  {
   "cell_type": "markdown",
   "metadata": {
    "vscode": {
     "languageId": "cpp"
    }
   },
   "source": [
    "## No. 1"
   ]
  },
  {
   "cell_type": "code",
   "execution_count": 2,
   "metadata": {
    "vscode": {
     "languageId": "cpp"
    }
   },
   "outputs": [
    {
     "name": "stdout",
     "output_type": "stream",
     "text": [
      "2 3 4 5 6 \n",
      "3 4 5 6 7 \n",
      "4 5 6 7 8 \n",
      "5 6 7 8 9 \n",
      "6 7 8 9 10 \n"
     ]
    }
   ],
   "source": [
    "int k = 2;\n",
    "for (int i = 0; i<5; i++) {\n",
    "  for (int j = k; j <= k+4 ; j++) {\n",
    "    cout << j << \" \";    \n",
    "  }\n",
    "  k++;\n",
    "  cout << endl;\n",
    "}"
   ]
  },
  {
   "cell_type": "markdown",
   "metadata": {},
   "source": [
    "## No. 2"
   ]
  },
  {
   "cell_type": "code",
   "execution_count": 3,
   "metadata": {
    "vscode": {
     "languageId": "cpp"
    }
   },
   "outputs": [
    {
     "name": "stdout",
     "output_type": "stream",
     "text": [
      "\n",
      "3 \n",
      "5 6 \n",
      "7 8 9 \n",
      "9 10 11 12 \n",
      "11 12 13 14 15 \n",
      "13 14 15 16 17 18 \n",
      "15 16 17 18 19 20 21 \n",
      "17 18 19 20 21 22 23 24 \n",
      "19 20 21 22 23 24 25 26 27 \n",
      "21 22 23 24 25 26 27 28 29 30 \n"
     ]
    }
   ],
   "source": [
    "int k = 1;\n",
    "for (int i = 0; i < 11; i++) {\n",
    "  for (int j = k; j < i+k; j++) {\n",
    "    cout << j << \" \";    \n",
    "  }\n",
    "  k+=2;\n",
    "  cout << endl;\n",
    "}"
   ]
  },
  {
   "cell_type": "markdown",
   "metadata": {},
   "source": [
    "## No. 3"
   ]
  },
  {
   "cell_type": "code",
   "execution_count": 4,
   "metadata": {
    "vscode": {
     "languageId": "cpp"
    }
   },
   "outputs": [
    {
     "name": "stdout",
     "output_type": "stream",
     "text": [
      "2 4 6 8 10 12 14 16 18 20 22 24 26 28 30 "
     ]
    }
   ],
   "source": [
    "for (int i = 1; i <= 30; i++) {\n",
    "  if (i % 2 == 0) {\n",
    "    cout << i << \" \";\n",
    "  }  \n",
    "}"
   ]
  },
  {
   "cell_type": "markdown",
   "metadata": {},
   "source": [
    "### No. 3.1"
   ]
  },
  {
   "cell_type": "code",
   "execution_count": 5,
   "metadata": {
    "vscode": {
     "languageId": "cpp"
    }
   },
   "outputs": [
    {
     "name": "stdout",
     "output_type": "stream",
     "text": [
      "5 7 9 11 13 15 17 19 21 23 25 "
     ]
    }
   ],
   "source": [
    "for (int i = 5; i <= 25; i++) {\n",
    "  if (i % 2 != 0) {\n",
    "    cout << i << \" \";\n",
    "  }  \n",
    "}"
   ]
  },
  {
   "cell_type": "markdown",
   "metadata": {},
   "source": [
    "### No. 3.2"
   ]
  },
  {
   "cell_type": "code",
   "execution_count": 6,
   "metadata": {
    "vscode": {
     "languageId": "cpp"
    }
   },
   "outputs": [
    {
     "name": "stdout",
     "output_type": "stream",
     "text": [
      "2 4 6 8 10 12 14 16 18 20 22 24 26 28 30 "
     ]
    }
   ],
   "source": [
    "int main() {\n",
    "  int a;\n",
    "  for (int a = 2; a <=30 ; a++) {\n",
    "    if (a % 2 ==0)\n",
    "      cout << a << \" \";\n",
    "  }\n",
    "}\n",
    "main();"
   ]
  },
  {
   "cell_type": "markdown",
   "metadata": {},
   "source": [
    "## No. 4"
   ]
  },
  {
   "cell_type": "code",
   "execution_count": 7,
   "metadata": {
    "vscode": {
     "languageId": "cpp"
    }
   },
   "outputs": [
    {
     "name": "stdout",
     "output_type": "stream",
     "text": [
      "11 13 15 17 19 21 23 27 29 31 33 35 37 39 41 43 45 47 49 "
     ]
    }
   ],
   "source": [
    "for (int i = 11; i <= 50; i++) {\n",
    "  if (i != 25)\n",
    "  if (i % 2 != 0) {\n",
    "    cout << i << \" \";\n",
    "  }    \n",
    "}"
   ]
  },
  {
   "cell_type": "markdown",
   "metadata": {},
   "source": [
    "## No. 5"
   ]
  },
  {
   "cell_type": "code",
   "execution_count": 8,
   "metadata": {
    "vscode": {
     "languageId": "cpp"
    }
   },
   "outputs": [
    {
     "name": "stdout",
     "output_type": "stream",
     "text": [
      "4 6 8 12 14 16 18 22 24 26 28 30 32 34 36 38 40 42 44 46 48 50 "
     ]
    }
   ],
   "source": [
    "for (int i = 4; i <= 50; i++) {\n",
    "  if (i != 10 && i != 20)\n",
    "  if (i % 2 == 0) {\n",
    "    cout << i << \" \";\n",
    "  }    \n",
    "}"
   ]
  }
 ],
 "metadata": {
  "authors": [
   {
    "name": "Wasis Haryo Sasoko"
   }
  ],
  "kernelspec": {
   "display_name": "C++17",
   "language": "C++17",
   "name": "xcpp17"
  },
  "language_info": {
   "codemirror_mode": "text/x-c++src",
   "file_extension": ".cpp",
   "mimetype": "text/x-c++src",
   "name": "c++",
   "version": "17"
  },
  "title": "Nested Loops"
 },
 "nbformat": 4,
 "nbformat_minor": 2
}
